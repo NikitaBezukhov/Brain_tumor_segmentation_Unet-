{
 "cells": [
  {
   "cell_type": "markdown",
   "metadata": {
    "colab": {
     "base_uri": "https://localhost:8080/"
    },
    "id": "9XwyMWuTTEcQ",
    "outputId": "f9993394-b6a0-47fa-bd12-740960d41696"
   },
   "source": [
    "# __This is a notebook of a PyTorch brain tumor semantic segmentation with Unet++ (ResNet101 backbone)!__ \n",
    "# Project by __[Nikita Bezukhov](https://github.com/NikitaBezukhov)__!\n",
    "### The data set is __[Brain MRI segmentation from Kaggle](https://www.kaggle.com/mateuszbuda/lgg-mri-segmentation)__.\n",
    "### Was built in __[Google Colab](https://colab.research.google.com/)__ environment, so make any adjustments needed for it to work on your machine."
   ]
  },
  {
   "cell_type": "markdown",
   "metadata": {
    "id": "Djzy1yu2GhYk"
   },
   "source": [
    "####\n",
    "####\n",
    "## __1. First lets install, import and define all necessary libraries/classes/functions that we will be using.__"
   ]
  },
  {
   "cell_type": "code",
   "execution_count": null,
   "metadata": {
    "id": "Djzy1yu2GhYk"
   },
   "outputs": [],
   "source": [
    "pip install barbar git+https://github.com/albumentations-team/albumentations segmentation_models_pytorch"
   ]
  },
  {
   "cell_type": "code",
   "execution_count": 35,
   "metadata": {
    "id": "XHSa1bYySDhv"
   },
   "outputs": [],
   "source": [
    "import os\n",
    "import segmentation_models_pytorch \n",
    "import logging\n",
    "import torch\n",
    "import gc\n",
    "import re\n",
    "import torch\n",
    "import cv2\n",
    "import random\n",
    "import torchvision\n",
    "from imageio import imread\n",
    "from math import exp\n",
    "import torch.nn as nn\n",
    "from PIL import Image, ImageOps, ImageShow\n",
    "import torch.nn.functional as F\n",
    "import torchvision.transforms.functional as TF\n",
    "from sklearn.metrics import jaccard_score\n",
    "import torch.nn.init as init\n",
    "from torch.autograd import Variable\n",
    "import numpy as np\n",
    "from torch.utils.data import Dataset\n",
    "from torchvision import transforms, datasets \n",
    "from shutil import copyfile, move\n",
    "import matplotlib.pyplot as plt\n",
    "from torch.utils.tensorboard import SummaryWriter\n",
    "from barbar import Bar\n",
    "from PIL import Image\n",
    "import matplotlib.pyplot as plt\n",
    "import albumentations as A\n",
    "from albumentations.pytorch import ToTensorV2\n",
    "import pandas as pd\n",
    "from torchsummary import summary\n",
    "from torch.optim.lr_scheduler import ReduceLROnPlateau\n",
    "from sklearn.metrics import confusion_matrix, ConfusionMatrixDisplay, classification_report, roc_curve, auc\n",
    "os.environ['CUDA_LAUNCH_BLOCKING'] = \"1\""
   ]
  },
  {
   "cell_type": "code",
   "execution_count": 5,
   "metadata": {
    "id": "fSzynDS6Sagm"
   },
   "outputs": [],
   "source": [
    "class EarlyStopping:\n",
    "    \"\"\"Early stops the training if validation loss doesn't improve after a given patience.\"\"\"\n",
    "    def __init__(self, patience=7, verbose=False, delta=0, path='checkpoint.pt', trace_func=print,best_score=None):\n",
    "        \"\"\"\n",
    "        Args:\n",
    "            patience (int): How long to wait after last time validation loss improved.\n",
    "                            Default: 7\n",
    "            verbose (bool): If True, prints a message for each validation loss improvement. \n",
    "                            Default: False\n",
    "            delta (float): Minimum change in the monitored quantity to qualify as an improvement.\n",
    "                            Default: 0\n",
    "            path (str): Path for the checkpoint to be saved to.\n",
    "                            Default: 'checkpoint.pt'\n",
    "            trace_func (function): trace print function.\n",
    "                            Default: print            \n",
    "        \"\"\"\n",
    "        self.patience = patience\n",
    "        self.verbose = verbose\n",
    "        self.counter = 0\n",
    "        self.best_score = best_score\n",
    "        self.early_stop = False\n",
    "        self.val_loss_min = np.Inf\n",
    "        self.delta = delta\n",
    "        self.path = path\n",
    "        self.trace_func = trace_func\n",
    "    def __call__(self, val_loss, model):\n",
    "\n",
    "        score = -val_loss\n",
    "\n",
    "        if self.best_score is None:\n",
    "            self.best_score = score\n",
    "            self.save_checkpoint(val_loss, model)\n",
    "        elif score < self.best_score + self.delta:\n",
    "            self.counter += 1\n",
    "            self.trace_func(f'EarlyStopping counter: {self.counter} out of {self.patience}')\n",
    "            if self.counter >= self.patience:\n",
    "                self.early_stop = True\n",
    "        else:\n",
    "            self.best_score = score\n",
    "            self.save_checkpoint(val_loss, model)\n",
    "            self.counter = 0\n",
    "\n",
    "    def save_checkpoint(self, val_loss, model):\n",
    "        '''Saves model when monitored metric decrease.'''\n",
    "        if self.verbose:\n",
    "            self.trace_func(f'Monitored metric has improved ({self.val_loss_min:.6f} --> {val_loss:.6f}).  Saving model ...')\n",
    "        torch.save(model.state_dict(), f'/content/drive/MyDrive/brainmodelunetpp.pt') \n",
    "        self.val_loss_min = val_loss"
   ]
  },
  {
   "cell_type": "markdown",
   "metadata": {
    "id": "Djzy1yu2GhYk"
   },
   "source": [
    "## __2. Data preparation.__\n",
    "### Dataset consists of MRI brain scans and ground truth masks.\n",
    "### We will unzip data, copy all scans and masks from different folders into 2 folders (masks, scans)."
   ]
  },
  {
   "cell_type": "code",
   "execution_count": null,
   "metadata": {
    "colab": {
     "base_uri": "https://localhost:8080/"
    },
    "id": "Fw2diKwUSach",
    "outputId": "fd3bc311-2d71-459f-d75a-99ab4a8f449a"
   },
   "outputs": [],
   "source": [
    "!unzip /content/drive/MyDrive/brain_scans.zip -d /content"
   ]
  },
  {
   "cell_type": "code",
   "execution_count": 8,
   "metadata": {
    "id": "2UiWajqQSaaP"
   },
   "outputs": [],
   "source": [
    "os.mkdir('/content/scans/')\n",
    "os.mkdir('/content/masks/')"
   ]
  },
  {
   "cell_type": "code",
   "execution_count": 9,
   "metadata": {
    "id": "YfvrTnEbZ8uT"
   },
   "outputs": [],
   "source": [
    "scans_dir = '/content/scans/'\n",
    "masks_dir = '/content/masks/'"
   ]
  },
  {
   "cell_type": "code",
   "execution_count": 10,
   "metadata": {
    "id": "jV5ztJNWSaYV"
   },
   "outputs": [],
   "source": [
    " folders = os.listdir('/content/kaggle_3m/')"
   ]
  },
  {
   "cell_type": "code",
   "execution_count": 11,
   "metadata": {
    "id": "BpGvSnzgSaWu"
   },
   "outputs": [],
   "source": [
    "for folder in folders:\n",
    "    next_folder = '/content/kaggle_3m/'+folder\n",
    "    try:\n",
    "        for image in os.listdir(next_folder):\n",
    "            if 'mask' in image:\n",
    "                copyfile(os.path.join(next_folder, image), os.path.join(masks_dir, image)) \n",
    "            else:\n",
    "                copyfile(os.path.join(next_folder, image), os.path.join(scans_dir, image))   \n",
    "    except:\n",
    "        pass"
   ]
  },
  {
   "cell_type": "code",
   "execution_count": null,
   "metadata": {
    "colab": {
     "base_uri": "https://localhost:8080/"
    },
    "id": "wQ--S-HCSaUl",
    "outputId": "95980ee3-2fd4-4ad8-90c9-66944835bf0f"
   },
   "outputs": [],
   "source": [
    "print(len(os.listdir(scans_dir)))\n",
    "print(len(os.listdir(masks_dir)))"
   ]
  },
  {
   "cell_type": "markdown",
   "metadata": {
    "id": "Djzy1yu2GhYk"
   },
   "source": [
    "### Now we will make lists of scan and mask names, sort them so masks and scans would be in the same order in lists, shuffle together and then split into train/val sets 85/15%."
   ]
  },
  {
   "cell_type": "code",
   "execution_count": 13,
   "metadata": {
    "id": "cD77v4YiSaSc"
   },
   "outputs": [],
   "source": [
    "scan_list = os.listdir(scans_dir)\n",
    "mask_list = os.listdir(masks_dir)"
   ]
  },
  {
   "cell_type": "code",
   "execution_count": 14,
   "metadata": {
    "id": "XLEAn3KejalJ"
   },
   "outputs": [],
   "source": [
    "scan_list.sort(key=lambda f: int(re.sub('\\D', '', f)))\n",
    "mask_list.sort(key=lambda f: int(re.sub('\\D', '', f)))"
   ]
  },
  {
   "cell_type": "code",
   "execution_count": 15,
   "metadata": {
    "id": "omEU9MZVD2eH"
   },
   "outputs": [],
   "source": [
    "c = list(zip(scan_list, mask_list))\n",
    "\n",
    "random.shuffle(c)\n",
    "\n",
    "scan_list, mask_list = zip(*c)"
   ]
  },
  {
   "cell_type": "code",
   "execution_count": null,
   "metadata": {
    "colab": {
     "base_uri": "https://localhost:8080/"
    },
    "id": "Qmuq8ty4SaQ8",
    "outputId": "bdea8268-b94c-4498-aeaf-c0f8c1505a0c"
   },
   "outputs": [],
   "source": [
    "scan_list[0:11]"
   ]
  },
  {
   "cell_type": "code",
   "execution_count": null,
   "metadata": {
    "colab": {
     "base_uri": "https://localhost:8080/"
    },
    "id": "leQuJlDlSaOr",
    "outputId": "f02c7f3e-ef87-4e04-ef4d-2e6ee752a54c"
   },
   "outputs": [],
   "source": [
    "mask_list[0:11]"
   ]
  },
  {
   "cell_type": "code",
   "execution_count": 18,
   "metadata": {
    "id": "KYsq4CNTmfV8"
   },
   "outputs": [],
   "source": [
    "ind = len(scan_list)"
   ]
  },
  {
   "cell_type": "code",
   "execution_count": 19,
   "metadata": {
    "id": "9vUilIkvFSPX"
   },
   "outputs": [],
   "source": [
    "train_scan = scan_list[:int(ind*0.85)]\n",
    "train_mask = mask_list[:int(ind*0.85)]\n",
    "val_scan = scan_list[int(ind*0.85):]\n",
    "val_mask = mask_list[int(ind*0.85):]"
   ]
  },
  {
   "cell_type": "code",
   "execution_count": null,
   "metadata": {
    "colab": {
     "base_uri": "https://localhost:8080/"
    },
    "id": "dOmIw6EQGH6J",
    "outputId": "b13bccdd-dfe8-4474-83c2-0e7a28e739dd"
   },
   "outputs": [],
   "source": [
    "print(len(train_scan))\n",
    "print(len(train_mask))\n",
    "print(len(val_scan))\n",
    "print(len(val_mask))"
   ]
  },
  {
   "cell_type": "code",
   "execution_count": 21,
   "metadata": {
    "id": "Ir4daSQNz0p_"
   },
   "outputs": [],
   "source": [
    "path_scan_train_list = [scans_dir + x for x in train_scan]\n",
    "path_mask_train_list = [masks_dir + x for x in train_mask]\n",
    "path_scan_val_list = [scans_dir + x for x in val_scan]\n",
    "path_mask_val_list = [masks_dir + x for x in val_mask]"
   ]
  },
  {
   "cell_type": "code",
   "execution_count": null,
   "metadata": {
    "colab": {
     "base_uri": "https://localhost:8080/"
    },
    "id": "2_QRYhXKBiIv",
    "outputId": "00f27725-bbbe-45df-ac25-ce8a0e5b39be"
   },
   "outputs": [],
   "source": [
    "print(path_scan_train_list[0])\n",
    "print(path_mask_train_list[0])"
   ]
  },
  {
   "cell_type": "markdown",
   "metadata": {
    "id": "Djzy1yu2GhYk"
   },
   "source": [
    "##\n",
    "## __3. Data augmentation.__\n",
    "### Dataset consists of 3929 unique MRI brain scans  of patients with and without brain tumor, image size is 256x256 pixels.\n",
    "### We will be using Albumentations image augmentation library to transform scans and corresponding masks in the same way.\n",
    "### I found next augmentations to make the most sense for this dataset: affine transformations with zoom 0.9-1.1, shift -0.1-0.1 and rotation -180-180 degrees. (arguments for zoom and shift were chosen pretty small so that brain tumor never gets out of picture)\n",
    "### We also incorporate random horizontal flip and normalization. (we will calculate mean and std for normalization later)"
   ]
  },
  {
   "cell_type": "code",
   "execution_count": 59,
   "metadata": {
    "id": "dcNLE9iFo7ME"
   },
   "outputs": [],
   "source": [
    "image_size = 256\n",
    "\n",
    "train_transforms = A.Compose([\n",
    "    A.Resize (image_size, image_size, p=1.0),                       \n",
    "    A.augmentations.geometric.transforms.Affine(scale=(0.9,1.1), translate_percent={'x':(-0.1,0.1),'y':(-0.1,0.1)}, \n",
    "                                                rotate=(-180,180), shear=None, p=1.0),\n",
    "    A.HorizontalFlip(p=0.5),\n",
    "])\n",
    "\n",
    "normalize_transforms = transforms.Compose([\n",
    "    transforms.Normalize(mean=[0.0896, 0.0813, 0.0864], std=[0.1342, 0.1232, 0.1288])\n",
    "    ])\n",
    "\n",
    "to_tensor_transforms = transforms.Compose([\n",
    "    transforms.ToTensor()\n",
    "    ])\n",
    "\n",
    "val_transforms = A.Compose([\n",
    "    A.Resize (image_size, image_size, p=1.0),\n",
    "])"
   ]
  },
  {
   "cell_type": "markdown",
   "metadata": {
    "id": "Djzy1yu2GhYk"
   },
   "source": [
    "### Next we make our custom dataset and specify order of all needed transformations."
   ]
  },
  {
   "cell_type": "code",
   "execution_count": 42,
   "metadata": {
    "id": "3oqCy-7SmfI3"
   },
   "outputs": [],
   "source": [
    "class MyDataset(Dataset):\n",
    "    def __init__(self, image_paths, target_paths, train=True):\n",
    "        self.image_paths = image_paths\n",
    "        self.target_paths = target_paths\n",
    "        self.train = train\n",
    "\n",
    "    def transform(self, image, mask, train):\n",
    "        if train:\n",
    "            transformed = train_transforms(image=image, mask=mask)            \n",
    "            tensor_image = to_tensor_transforms(transformed['image'])\n",
    "            normalized_img = normalize_transforms(tensor_image)\n",
    "            tensor_mask = to_tensor_transforms(transformed['mask'])\n",
    "\n",
    "        else:      \n",
    "            transformed = val_transforms(image=image, mask=mask)   \n",
    "            tensor_image = to_tensor_transforms(transformed['image'])\n",
    "            normalized_img = normalize_transforms(tensor_image)\n",
    "            tensor_mask = to_tensor_transforms(transformed['mask'])\n",
    "\n",
    "\n",
    "        return normalized_img, tensor_mask\n",
    "\n",
    "    def __getitem__(self, index):\n",
    "        image = imread(self.image_paths[index])\n",
    "        mask = imread(self.target_paths[index])\n",
    "        x, y = self.transform(image, mask, self.train)\n",
    "        return x, y\n",
    "\n",
    "    def __len__(self):\n",
    "        return len(self.image_paths)"
   ]
  },
  {
   "cell_type": "code",
   "execution_count": 44,
   "metadata": {
    "id": "jayjogO5SaEn"
   },
   "outputs": [],
   "source": [
    "train_dataset = MyDataset(path_scan_train_list, path_mask_train_list, train=True)\n",
    "val_dataset = MyDataset(path_scan_val_list, path_mask_val_list, train=False)"
   ]
  },
  {
   "cell_type": "markdown",
   "metadata": {
    "id": "Djzy1yu2GhYk"
   },
   "source": [
    "### Batch size chosen as 16 because it is all I could fit in 16gb Colab Pro GPU, but we will be using PyTorch gradient accumulation, so effectively we will have batch size of 64 images."
   ]
  },
  {
   "cell_type": "code",
   "execution_count": 45,
   "metadata": {
    "id": "e9feAkg5SaCo"
   },
   "outputs": [],
   "source": [
    "train_loader = torch.utils.data.DataLoader(\n",
    "    train_dataset, batch_size=16, shuffle=True,\n",
    "    pin_memory=False, drop_last=False)\n",
    "\n",
    "val_loader = torch.utils.data.DataLoader(\n",
    "    val_dataset, batch_size=16, shuffle=False,\n",
    "    pin_memory=False, drop_last=False)"
   ]
  },
  {
   "cell_type": "markdown",
   "metadata": {
    "id": "Djzy1yu2GhYk"
   },
   "source": [
    "### Mean and std calculation for normalization."
   ]
  },
  {
   "cell_type": "code",
   "execution_count": null,
   "metadata": {
    "id": "qU9a7SQPGijh"
   },
   "outputs": [],
   "source": [
    "psum    = torch.tensor([0.0, 0.0, 0.0])\n",
    "psum_sq = torch.tensor([0.0, 0.0, 0.0])\n",
    "\n",
    "# loop through images\n",
    "for inputs, label in train_loader:\n",
    "    psum    += inputs.sum(axis        = [0, 2, 3])\n",
    "    psum_sq += (inputs ** 2).sum(axis = [0, 2, 3])\n",
    "    \n",
    "# pixel count\n",
    "count = len(train_scan) * image_size * image_size\n",
    "\n",
    "# mean and std\n",
    "total_mean = psum / count\n",
    "total_var  = (psum_sq / count) - (total_mean ** 2)\n",
    "total_std  = torch.sqrt(total_var)\n",
    "\n",
    "# output\n",
    "print('mean: '  + str(total_mean))\n",
    "print('std:  '  + str(total_std))"
   ]
  },
  {
   "cell_type": "markdown",
   "metadata": {
    "id": "Djzy1yu2GhYk"
   },
   "source": [
    "### We will be using Dice score and IoU as our metrics to measure model performance and Dice+BCE as a loss function. (from my experience addition of BCE loss helps model to start converging faster) \n",
    "### We divide loss by 4 because of usage of gradient accumulation (updating weights after every 4 minibatch loops). "
   ]
  },
  {
   "cell_type": "code",
   "execution_count": 18,
   "metadata": {
    "id": "Hy_v42BVK5jw"
   },
   "outputs": [],
   "source": [
    "def Dice_and_iou(inputs, targets, smooth=1e-6):\n",
    "    \n",
    "    #comment out if your model contains a sigmoid or equivalent activation layer\n",
    "    # inputs = F.sigmoid(inputs)       \n",
    "    \n",
    "    #flatten label and prediction tensors\n",
    "    inputs = inputs.view(-1)\n",
    "    targets = targets.view(-1)\n",
    "    \n",
    "    intersection = (inputs * targets).sum()                            \n",
    "    dice = (2.*intersection + smooth)/(inputs.sum() + targets.sum() + smooth)  \n",
    "    iou = (intersection + smooth)/(inputs.sum() + targets.sum() - intersection + smooth)  \n",
    "    return dice, iou    "
   ]
  },
  {
   "cell_type": "code",
   "execution_count": 19,
   "metadata": {
    "id": "9mPmFVX6ALs2"
   },
   "outputs": [],
   "source": [
    "class DiceBCELoss(nn.Module):\n",
    "    def __init__(self):\n",
    "        super(DiceBCELoss, self).__init__()\n",
    "\n",
    "    def forward(self, inputs, targets, smooth=1e-6):\n",
    "        \n",
    "        #comment out if your model contains a sigmoid or equivalent activation layer\n",
    "        # inputs = F.sigmoid(inputs)       \n",
    "        \n",
    "        #flatten label and prediction tensors\n",
    "        inputs = inputs.view(-1)\n",
    "        targets = targets.view(-1)\n",
    "        \n",
    "        intersection = (inputs * targets).sum()  \n",
    "        dice = (2.*intersection + smooth)/(inputs.sum() + targets.sum() + smooth)                          \n",
    "        bce = F.binary_cross_entropy(inputs, targets, reduction='mean')\n",
    "        \n",
    "        return ((1-dice)+bce)/4"
   ]
  },
  {
   "cell_type": "markdown",
   "metadata": {
    "id": "Djzy1yu2GhYk"
   },
   "source": [
    "## __4. Training.__\n",
    "### Model we will be using is Unet++ with ResNet101 backbone and ImageNet weights from __[here](https://github.com/qubvel/segmentation_models.pytorch)__!\n",
    "### We define it with 1 channel output for a mask.\n",
    "### I found combination of Adam optimizer with 0.001 starting learning rate, 0.0001 weight decay and ReduceLROnPlateau scheduler work the best. \n",
    "### Training process will be logged to TensorBoard."
   ]
  },
  {
   "cell_type": "code",
   "execution_count": 20,
   "metadata": {
    "id": "6Cv0pL2e_m60"
   },
   "outputs": [],
   "source": [
    "device = 'cuda'\n",
    "\n",
    "num_classes = 1\n",
    "\n",
    "model = segmentation_models_pytorch.UnetPlusPlus(encoder_name=\"resnet101\",in_channels=3, classes=1,\n",
    "                                                 aux_params=None, encoder_weights=\"imagenet\").to(device)  \n",
    "\n",
    "criterion = DiceBCELoss()\n",
    "\n",
    "optimizer = torch.optim.Adam(model.parameters(), lr=0.001, weight_decay=0.0001)\n",
    "\n",
    "scheduler = ReduceLROnPlateau(optimizer, mode='min', factor=0.5, patience=10, cooldown=5, verbose=True)\n",
    "\n",
    "writer = SummaryWriter(log_dir='/content/drive/MyDrive/brain_logs/', filename_suffix=\"brain\")"
   ]
  },
  {
   "cell_type": "markdown",
   "metadata": {
    "id": "Djzy1yu2GhYk"
   },
   "source": [
    "### Early stopping was chosen as 50. It let model to get pretty small improvements in later stages of training. If you are not trying to squeeze every little bit of performance increase, patience of 30 would probably be good enough."
   ]
  },
  {
   "cell_type": "code",
   "execution_count": null,
   "metadata": {
    "colab": {
     "base_uri": "https://localhost:8080/"
    },
    "id": "Vyyod7K3SZ6l",
    "outputId": "dea2a9de-8cfb-4492-fddf-2c19d357dadb"
   },
   "outputs": [],
   "source": [
    "early_stopping = EarlyStopping(patience=50, verbose=True)\n",
    "batch_count = 0\n",
    "\n",
    "for epoch in range(999):\n",
    "    train_loss = []\n",
    "    val_loss = []\n",
    "    all_train_iou = []\n",
    "    all_val_iou = []\n",
    "    all_train_dice = []\n",
    "    all_val_dice = []\n",
    "    print(f'Epoch {epoch+1}')\n",
    "\n",
    "    # Training loop\n",
    "    for idx, (inputs, masks) in enumerate(Bar(train_loader)):\n",
    "        batch_count += 1\n",
    "        model.train()\n",
    "        inputs, masks = inputs.to(device), masks.to(device)\n",
    "        outputs = model(inputs) \n",
    "        loss = criterion(torch.sigmoid(outputs), masks) \n",
    "        loss.backward() \n",
    "        if batch_count % 4 == 0:\n",
    "            optimizer.step() \n",
    "            optimizer.zero_grad() \n",
    "        train_loss.append(4*loss.item())\n",
    "        train_dice, train_iou = Dice_and_iou(torch.sigmoid(outputs).round(), masks)\n",
    "        all_train_iou.append(train_iou) \n",
    "        all_train_dice.append(train_dice) \n",
    "    all_train_iou = sum(all_train_iou)/(len(all_train_iou)+1e-6)\n",
    "    all_train_dice = sum(all_train_dice)/(len(all_train_dice)+1e-6)     \n",
    "    print(f\"Train IoU: {all_train_iou}\")\n",
    "    print(f\"Train Dice: {all_train_dice}\")\n",
    "    train_loss_final = sum(train_loss)/(len(train_loss)+1e-6)\n",
    "    scheduler.step(train_loss_final)\n",
    "    train_loss_formated = \"{:.4f}\".format(train_loss_final)\n",
    "\n",
    "    # Validation loop\n",
    "    with torch.no_grad():\n",
    "        for inputs, masks in val_loader:\n",
    "            model.eval()           \n",
    "            inputs, masks = inputs.to(device), masks.to(device)\n",
    "            outputs = model(inputs)\n",
    "            loss = criterion(torch.sigmoid(outputs), masks) \n",
    "            val_loss.append(4*loss.item())\n",
    "            val_dice, val_iou = Dice_and_iou(torch.sigmoid(outputs.round()), masks)\n",
    "            all_val_iou.append(val_iou)\n",
    "            all_val_dice.append(val_dice)   \n",
    "    all_val_iou = sum(all_val_iou)/(len(all_val_iou)+1e-6)\n",
    "    all_val_dice = sum(all_val_dice)/(len(all_val_dice)+1e-6)\n",
    "    print(f\"Val IoU: {all_val_iou}\")   \n",
    "    print(f\"Val dice: {all_val_dice}\")    \n",
    "    val_loss_final = sum(val_loss)/(len(val_loss)+1e-6)\n",
    "    val_loss_formated = \"{:.4f}\".format(val_loss_final)\n",
    "    print(f'Training Loss: {train_loss_formated}')\n",
    "    print(f\"Validation Loss: {val_loss_formated}\")\n",
    "\n",
    "    # TensorBoard writer \n",
    "    writer.add_scalar('Loss/train', train_loss_final, epoch+1)\n",
    "    writer.add_scalar('Loss/val', val_loss_final, epoch+1)\n",
    "    writer.add_scalar('IoU/train', all_train_iou, epoch+1)\n",
    "    writer.add_scalar('IoU/val', all_val_iou, epoch+1)\n",
    "    writer.add_scalar('Dice/train', all_train_dice, epoch+1)\n",
    "    writer.add_scalar('Dice/val', all_val_dice, epoch+1)\n",
    "  \n",
    "    # Early Stopping\n",
    "    early_stopping(val_loss_final, model)       \n",
    "    if early_stopping.early_stop:\n",
    "        print(\"Early stopping\")\n",
    "        break\n",
    "        \n",
    "# load the last checkpoint with the best model\n",
    "model.load_state_dict(torch.load('/content/drive/MyDrive/brainmodelunetpp.pt'))     "
   ]
  },
  {
   "cell_type": "markdown",
   "metadata": {
    "id": "Djzy1yu2GhYk"
   },
   "source": [
    "##\n",
    "## __5. Results.__\n",
    "### Model stopped training after 312 epochs (around 9 hours on 1 Tesla V100 GPU) with Early stopping point at 262 epochs. \n",
    "### Improvements after first 4-5 hours of training were pretty marginal so if you are not trying to make as good of a model as you can, around 150 epochs should be enough.\n",
    "### Result metrics are:\n",
    "#### Train IoU: 0.8260\n",
    "#### Train Dice: 0.9006\n",
    "####\n",
    "#### Val IoU: 0.8407\n",
    "#### Val Dice: 0.9128\n",
    "####\n",
    "#### Training Loss: 0.1116\n",
    "#### Validation Loss: 0.0950\n",
    "####\n",
    "### Now we can make confusion per pixel classification confusion matrix and classification report."
   ]
  },
  {
   "cell_type": "code",
   "execution_count": 26,
   "metadata": {
    "colab": {
     "base_uri": "https://localhost:8080/",
     "height": 443
    },
    "id": "wXXNRdT4v6oH",
    "outputId": "ddf6060a-81ea-469b-a164-ca2ef61c9210"
   },
   "outputs": [
    {
     "name": "stdout",
     "output_type": "stream",
     "text": [
      "              precision    recall  f1-score   support\n",
      "\n",
      "     Healthy       1.00      1.00      1.00  38271128\n",
      "       Tumor       0.92      0.92      0.92    395112\n",
      "\n",
      "    accuracy                           1.00  38666240\n",
      "   macro avg       0.96      0.96      0.96  38666240\n",
      "weighted avg       1.00      1.00      1.00  38666240\n",
      "\n"
     ]
    },
    {
     "data": {
      "image/png": "[encoded data removed]",
      "text/plain": [
       "<Figure size 432x288 with 2 Axes>"
      ]
     },
     "metadata": {
      "needs_background": "light",
      "tags": []
     },
     "output_type": "display_data"
    }
   ],
   "source": [
    "predlist = torch.zeros(0,dtype=torch.long, device='cpu')\n",
    "lbllist = torch.zeros(0,dtype=torch.long, device='cpu')\n",
    "predlistauc = torch.zeros(0,dtype=torch.long, device='cpu')\n",
    "\n",
    "with torch.no_grad():\n",
    "    for i, (inputs, classes) in enumerate(val_loader):\n",
    "        model.eval()\n",
    "        inputs = inputs.to(device)\n",
    "        classes = classes.to(device)\n",
    "        outputs = model(inputs)\n",
    "        preds = torch.round(torch.sigmoid(outputs))\n",
    "\n",
    "        # Append batch prediction results\n",
    "        predlist = torch.cat([predlist,preds.view(-1).cpu()])\n",
    "        lbllist = torch.cat([lbllist,classes.view(-1).cpu()])\n",
    "        predlistauc = torch.cat([predlistauc,torch.sigmoid(outputs).view(-1).cpu()])\n",
    "predlist = predlist.numpy()\n",
    "lbllist = lbllist.numpy()\n",
    "predlistauc = predlistauc.numpy()\n",
    "\n",
    "# Confusion matrix\n",
    "tn, fp, fn, tp = confusion_matrix(lbllist, predlist).ravel()\n",
    "target_names = ['Healthy','Tumor']   \n",
    "ConfusionMatrixDisplay(np.concatenate((np.array([[tn, fp]]),np.array([[fn, tp]])),\n",
    "                                      axis=0), display_labels=target_names).plot(values_format=\"d\")                   \n",
    "print(classification_report(lbllist, predlist, target_names=target_names))"
   ]
  },
  {
   "cell_type": "markdown",
   "metadata": {
    "id": "Djzy1yu2GhYk"
   },
   "source": [
    "### Next you can visualize scan/mask/prediction combinations to see results of model performance."
   ]
  },
  {
   "cell_type": "code",
   "execution_count": 60,
   "metadata": {
    "id": "jTacNHxBqnbf"
   },
   "outputs": [],
   "source": [
    "masks = torch.empty(1,1,image_size,image_size)\n",
    "modeled_masks = torch.empty(1,1,image_size,image_size)\n",
    "with torch.no_grad():\n",
    "    for inputs, mask in val_loader:\n",
    "        model.eval()       \n",
    "        inputs= inputs.to(device)\n",
    "        outputs = model(inputs)\n",
    "        masks = torch.cat((masks,mask))\n",
    "        modeled_masks = torch.cat((modeled_masks,outputs.cpu()))"
   ]
  },
  {
   "cell_type": "code",
   "execution_count": 61,
   "metadata": {
    "id": "UtTCFBej1PE2"
   },
   "outputs": [],
   "source": [
    "normalize_transforms = transforms.Compose([\n",
    "])"
   ]
  },
  {
   "cell_type": "code",
   "execution_count": 62,
   "metadata": {
    "id": "Fvv9DYshSZXl"
   },
   "outputs": [],
   "source": [
    "unnormalized_pics = torch.empty(1,3,image_size,image_size)\n",
    "with torch.no_grad():\n",
    "    for inputs, mask in val_loader:\n",
    "        unnormalized_pics = torch.cat((unnormalized_pics, inputs))"
   ]
  },
  {
   "cell_type": "code",
   "execution_count": 94,
   "metadata": {
    "id": "A0_kzr2HSZVm"
   },
   "outputs": [],
   "source": [
    "count = 0\n",
    "for j in range(100):\n",
    "    count += 1\n",
    "    fig = plt.figure(figsize=(20,8))\n",
    "\n",
    "    ax1 = fig.add_subplot(1,3,1)\n",
    "    ax1.imshow(unnormalized_pics[j+1].permute(1,2,0))\n",
    "    ax1.set_title('Input Image', fontdict={'fontsize': 16, 'fontweight': 'medium'})\n",
    "    ax1.grid(False)\n",
    "\n",
    "    ax2 = fig.add_subplot(1,3,2)\n",
    "    ax2.set_title('Ground Truth Mask', fontdict={'fontsize': 16, 'fontweight': 'medium'})\n",
    "    ax2.imshow(masks[j+1].int().permute(1,2,0).squeeze(dim=2))\n",
    "    ax2.grid(False)\n",
    "\n",
    "    ax3 = fig.add_subplot(1,3,3)\n",
    "    ax3.set_title('Predicted Mask', fontdict={'fontsize': 16, 'fontweight': 'medium'})\n",
    "    ax3.imshow(torch.sigmoid(modeled_masks[j+1]).round().permute(1,2,0).squeeze(dim=2))\n",
    "    ax3.grid(False)\n",
    "\n",
    "    # plt.savefig('/content/drive/MyDrive/predictions/prediction_{}.png'.format(count), facecolor= 'w', transparent= False, bbox_inches= 'tight', dpi= 200)\n",
    "    plt.show()"
   ]
  },
  {
   "cell_type": "markdown",
   "metadata": {
    "id": "Djzy1yu2GhYk"
   },
   "source": [
    "### Also if we use our model as a classifier (look at how many tumors we predicted when there were none and backwards, etc.) we can calculate TP, TN, FP and FN, Recall, Precision and F1 score."
   ]
  },
  {
   "cell_type": "code",
   "execution_count": 81,
   "metadata": {
    "id": "GBpOwLSRSZRq"
   },
   "outputs": [],
   "source": [
    "TP = 0\n",
    "TN = 0\n",
    "FP = 0\n",
    "FN = 0\n",
    "for i,mask in enumerate(masks[1:]):\n",
    "    if mask.max() == 1:\n",
    "        if torch.sigmoid(modeled_masks[i+1]).round().max() == 0:\n",
    "            FN += 1\n",
    "        if torch.sigmoid(modeled_masks[i+1]).round().max() == 1:  \n",
    "            TP += 1      \n",
    "    else:\n",
    "        if torch.sigmoid(modeled_masks[i+1]).round().max() == 1:  \n",
    "            FP += 1  \n",
    "        if torch.sigmoid(modeled_masks[i+1]).round().max() == 0:\n",
    "            TN += 1"
   ]
  },
  {
   "cell_type": "code",
   "execution_count": 94,
   "metadata": {
    "colab": {
     "base_uri": "https://localhost:8080/"
    },
    "id": "A5dhpA_z941g",
    "outputId": "6a253a54-d3ff-4ca1-d5d0-e0ec9b8e75af"
   },
   "outputs": [
    {
     "name": "stdout",
     "output_type": "stream",
     "text": [
      "Segmentation as classification:\n",
      "\n",
      "TP: 202\n",
      "TN: 369\n",
      "FP: 7\n",
      "FN: 12\n"
     ]
    }
   ],
   "source": [
    "print('''Segmentation as classification:\n",
    "''')\n",
    "print('TP:',TP)\n",
    "print('TN:',TN)\n",
    "print('FP:',FP)\n",
    "print('FN:',FN)"
   ]
  },
  {
   "cell_type": "code",
   "execution_count": 87,
   "metadata": {
    "id": "102kG45c_bbY"
   },
   "outputs": [],
   "source": [
    "recall = TP/(TP+FN)\n",
    "precision = TP/(TP+FP)\n",
    "f1 = 2*precision*recall/(precision+recall)\n",
    "accuracy = (TP+TN)/(TP+TN+FP+FN)"
   ]
  },
  {
   "cell_type": "code",
   "execution_count": 91,
   "metadata": {
    "colab": {
     "base_uri": "https://localhost:8080/"
    },
    "id": "o5hJ_RDzSZPs",
    "outputId": "367d3824-e277-48b8-f0d2-7b62eb634c3a"
   },
   "outputs": [
    {
     "name": "stdout",
     "output_type": "stream",
     "text": [
      "Segmentation as classification:\n",
      "\n",
      "Recall: 0.9439252336448598\n",
      "Precision: 0.9665071770334929\n",
      "F1 score: 0.9550827423167848\n",
      "Accuracy: 0.9677966101694915\n"
     ]
    }
   ],
   "source": [
    "print('''Segmentation as classification:\n",
    "''')\n",
    "print(f'Recall: {recall}')\n",
    "print(f\"Precision: {precision}\")\n",
    "print(f\"F1 score: {f1}\")\n",
    "print(f'Accuracy: {accuracy}')"
   ]
  },
  {
   "cell_type": "markdown",
   "metadata": {
    "id": "wFFEiBoCSZLk"
   },
   "source": [
    "### So this means that we predicted 94.4% out of all the scans with tumors (not necessarily each tumor in every scan) and 96.6% of scans we predicted to have tumor, had it."
   ]
  },
  {
   "cell_type": "code",
   "execution_count": null,
   "metadata": {
    "id": "993FMyCUSZKF"
   },
   "outputs": [],
   "source": []
  },
  {
   "cell_type": "code",
   "execution_count": null,
   "metadata": {
    "id": "9NlnYD4uSZID"
   },
   "outputs": [],
   "source": []
  },
  {
   "cell_type": "code",
   "execution_count": null,
   "metadata": {
    "id": "m9YUS331GekN"
   },
   "outputs": [],
   "source": []
  },
  {
   "cell_type": "code",
   "execution_count": null,
   "metadata": {
    "id": "UxAwvXHDGVq8"
   },
   "outputs": [],
   "source": []
  },
  {
   "cell_type": "code",
   "execution_count": null,
   "metadata": {
    "id": "Djzy1yu2GhYk"
   },
   "outputs": [],
   "source": []
  }
 ],
 "metadata": {
  "accelerator": "GPU",
  "colab": {
   "collapsed_sections": [],
   "machine_shape": "hm",
   "name": "brain_deep_lab.ipynb",
   "provenance": []
  },
  "kernelspec": {
   "display_name": "Python 3",
   "language": "python",
   "name": "python3"
  },
  "language_info": {
   "codemirror_mode": {
    "name": "ipython",
    "version": 3
   },
   "file_extension": ".py",
   "mimetype": "text/x-python",
   "name": "python",
   "nbconvert_exporter": "python",
   "pygments_lexer": "ipython3",
   "version": "3.8.7"
  }
 },
 "nbformat": 4,
 "nbformat_minor": 4
}
